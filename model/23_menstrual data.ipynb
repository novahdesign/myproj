{
 "cells": [
  {
   "cell_type": "markdown",
   "metadata": {
    "slideshow": {
     "slide_type": "slide"
    }
   },
   "source": [
    "![](img/330-banner.png)"
   ]
  },
  {
   "cell_type": "markdown",
   "metadata": {
    "slideshow": {
     "slide_type": "skip"
    }
   },
   "source": [
    "### Imports"
   ]
  },
  {
   "cell_type": "code",
   "execution_count": 1,
   "metadata": {
    "slideshow": {
     "slide_type": "skip"
    }
   },
   "outputs": [],
   "source": [
    "import pandas as pd\n",
    "import numpy as np\n",
    "from sklearn.ensemble import RandomForestRegressor\n",
    "from sklearn.feature_extraction.text import CountVectorizer\n",
    "from sklearn.linear_model import LogisticRegression\n",
    "from sklearn.metrics import mean_absolute_error\n",
    "from sklearn.model_selection import cross_validate, train_test_split\n",
    "from sklearn.pipeline import Pipeline, make_pipeline"
   ]
  },
  {
   "cell_type": "markdown",
   "metadata": {},
   "source": [
    "#### Python Installations\n",
    "```\n",
    "pip install Flask\n",
    "pip install Flask-WTF\n",
    "pip install joblib\n",
    "```"
   ]
  },
  {
   "cell_type": "markdown",
   "metadata": {
    "slideshow": {
     "slide_type": "slide"
    }
   },
   "source": [
    "### Building a model "
   ]
  },
  {
   "cell_type": "code",
   "execution_count": 2,
   "metadata": {},
   "outputs": [
    {
     "data": {
      "text/html": [
       "<div>\n",
       "<style scoped>\n",
       "    .dataframe tbody tr th:only-of-type {\n",
       "        vertical-align: middle;\n",
       "    }\n",
       "\n",
       "    .dataframe tbody tr th {\n",
       "        vertical-align: top;\n",
       "    }\n",
       "\n",
       "    .dataframe thead th {\n",
       "        text-align: right;\n",
       "    }\n",
       "</style>\n",
       "<table border=\"1\" class=\"dataframe\">\n",
       "  <thead>\n",
       "    <tr style=\"text-align: right;\">\n",
       "      <th></th>\n",
       "      <th>ClientID</th>\n",
       "      <th>CycleNumber</th>\n",
       "      <th>Group</th>\n",
       "      <th>CycleWithPeakorNot</th>\n",
       "      <th>ReproductiveCategory</th>\n",
       "      <th>LengthofCycle</th>\n",
       "      <th>MeanCycleLength</th>\n",
       "      <th>EstimatedDayofOvulation</th>\n",
       "      <th>LengthofLutealPhase</th>\n",
       "      <th>FirstDayofHigh</th>\n",
       "      <th>...</th>\n",
       "      <th>Method</th>\n",
       "      <th>Prevmethod</th>\n",
       "      <th>Methoddate</th>\n",
       "      <th>Whychart</th>\n",
       "      <th>Nextpreg</th>\n",
       "      <th>NextpregM</th>\n",
       "      <th>Spousesame</th>\n",
       "      <th>SpousesameM</th>\n",
       "      <th>Timeattemptpreg</th>\n",
       "      <th>BMI</th>\n",
       "    </tr>\n",
       "  </thead>\n",
       "  <tbody>\n",
       "    <tr>\n",
       "      <th>0</th>\n",
       "      <td>nfp8122</td>\n",
       "      <td>1</td>\n",
       "      <td>0</td>\n",
       "      <td>1</td>\n",
       "      <td>0</td>\n",
       "      <td>29</td>\n",
       "      <td>27.33</td>\n",
       "      <td>17</td>\n",
       "      <td>12</td>\n",
       "      <td>12</td>\n",
       "      <td>...</td>\n",
       "      <td>9</td>\n",
       "      <td></td>\n",
       "      <td></td>\n",
       "      <td>2</td>\n",
       "      <td>7</td>\n",
       "      <td>7</td>\n",
       "      <td>1</td>\n",
       "      <td>1</td>\n",
       "      <td>0</td>\n",
       "      <td>21.254724111867</td>\n",
       "    </tr>\n",
       "    <tr>\n",
       "      <th>1</th>\n",
       "      <td>nfp8122</td>\n",
       "      <td>2</td>\n",
       "      <td>0</td>\n",
       "      <td>1</td>\n",
       "      <td>0</td>\n",
       "      <td>27</td>\n",
       "      <td></td>\n",
       "      <td>15</td>\n",
       "      <td>12</td>\n",
       "      <td>13</td>\n",
       "      <td>...</td>\n",
       "      <td></td>\n",
       "      <td></td>\n",
       "      <td></td>\n",
       "      <td></td>\n",
       "      <td></td>\n",
       "      <td></td>\n",
       "      <td></td>\n",
       "      <td></td>\n",
       "      <td></td>\n",
       "      <td></td>\n",
       "    </tr>\n",
       "    <tr>\n",
       "      <th>2</th>\n",
       "      <td>nfp8122</td>\n",
       "      <td>3</td>\n",
       "      <td>0</td>\n",
       "      <td>1</td>\n",
       "      <td>0</td>\n",
       "      <td>29</td>\n",
       "      <td></td>\n",
       "      <td>15</td>\n",
       "      <td>14</td>\n",
       "      <td></td>\n",
       "      <td>...</td>\n",
       "      <td></td>\n",
       "      <td></td>\n",
       "      <td></td>\n",
       "      <td></td>\n",
       "      <td></td>\n",
       "      <td></td>\n",
       "      <td></td>\n",
       "      <td></td>\n",
       "      <td></td>\n",
       "      <td></td>\n",
       "    </tr>\n",
       "    <tr>\n",
       "      <th>3</th>\n",
       "      <td>nfp8122</td>\n",
       "      <td>4</td>\n",
       "      <td>0</td>\n",
       "      <td>1</td>\n",
       "      <td>0</td>\n",
       "      <td>27</td>\n",
       "      <td></td>\n",
       "      <td>15</td>\n",
       "      <td>12</td>\n",
       "      <td>13</td>\n",
       "      <td>...</td>\n",
       "      <td></td>\n",
       "      <td></td>\n",
       "      <td></td>\n",
       "      <td></td>\n",
       "      <td></td>\n",
       "      <td></td>\n",
       "      <td></td>\n",
       "      <td></td>\n",
       "      <td></td>\n",
       "      <td></td>\n",
       "    </tr>\n",
       "    <tr>\n",
       "      <th>4</th>\n",
       "      <td>nfp8122</td>\n",
       "      <td>5</td>\n",
       "      <td>0</td>\n",
       "      <td>1</td>\n",
       "      <td>0</td>\n",
       "      <td>28</td>\n",
       "      <td></td>\n",
       "      <td>16</td>\n",
       "      <td>12</td>\n",
       "      <td>12</td>\n",
       "      <td>...</td>\n",
       "      <td></td>\n",
       "      <td></td>\n",
       "      <td></td>\n",
       "      <td></td>\n",
       "      <td></td>\n",
       "      <td></td>\n",
       "      <td></td>\n",
       "      <td></td>\n",
       "      <td></td>\n",
       "      <td></td>\n",
       "    </tr>\n",
       "  </tbody>\n",
       "</table>\n",
       "<p>5 rows × 80 columns</p>\n",
       "</div>"
      ],
      "text/plain": [
       "  ClientID  CycleNumber  Group  CycleWithPeakorNot  ReproductiveCategory  \\\n",
       "0  nfp8122            1      0                   1                     0   \n",
       "1  nfp8122            2      0                   1                     0   \n",
       "2  nfp8122            3      0                   1                     0   \n",
       "3  nfp8122            4      0                   1                     0   \n",
       "4  nfp8122            5      0                   1                     0   \n",
       "\n",
       "   LengthofCycle MeanCycleLength EstimatedDayofOvulation LengthofLutealPhase  \\\n",
       "0             29           27.33                      17                  12   \n",
       "1             27                                      15                  12   \n",
       "2             29                                      15                  14   \n",
       "3             27                                      15                  12   \n",
       "4             28                                      16                  12   \n",
       "\n",
       "  FirstDayofHigh  ... Method Prevmethod Methoddate Whychart Nextpreg  \\\n",
       "0             12  ...      9                              2        7   \n",
       "1             13  ...                                                  \n",
       "2                 ...                                                  \n",
       "3             13  ...                                                  \n",
       "4             12  ...                                                  \n",
       "\n",
       "  NextpregM Spousesame SpousesameM Timeattemptpreg              BMI  \n",
       "0         7          1           1               0  21.254724111867  \n",
       "1                                                                    \n",
       "2                                                                    \n",
       "3                                                                    \n",
       "4                                                                    \n",
       "\n",
       "[5 rows x 80 columns]"
      ]
     },
     "execution_count": 2,
     "metadata": {},
     "output_type": "execute_result"
    }
   ],
   "source": [
    "df = pd.read_csv(\"data/menstrual_data.csv\")\n",
    "# df = df.dropna(inplace=True)\n",
    "df.head()\n",
    "# sample_df = sample_df.rename(\n",
    "#     columns={\"cleaned_hm\": \"moment\", \"ground_truth_category\": \"target\"}\n",
    "# )\n",
    "# sample_df.head()"
   ]
  },
  {
   "cell_type": "code",
   "execution_count": 3,
   "metadata": {},
   "outputs": [
    {
     "data": {
      "text/plain": [
       "ClientID\n",
       "nfp8122    45\n",
       "nfp8328    33\n",
       "nfp8323    33\n",
       "nfp8289    32\n",
       "nfp8066    31\n",
       "           ..\n",
       "nfp8247     1\n",
       "nfp8229     1\n",
       "nfp8049     1\n",
       "nfp8200     1\n",
       "nfp8284     1\n",
       "Name: count, Length: 159, dtype: int64"
      ]
     },
     "execution_count": 3,
     "metadata": {},
     "output_type": "execute_result"
    }
   ],
   "source": [
    "df[\"ClientID\"].value_counts()"
   ]
  },
  {
   "cell_type": "code",
   "execution_count": 4,
   "metadata": {},
   "outputs": [
    {
     "name": "stdout",
     "output_type": "stream",
     "text": [
      "<class 'pandas.core.frame.DataFrame'>\n",
      "RangeIndex: 1665 entries, 0 to 1664\n",
      "Data columns (total 80 columns):\n",
      " #   Column                      Non-Null Count  Dtype \n",
      "---  ------                      --------------  ----- \n",
      " 0   ClientID                    1665 non-null   object\n",
      " 1   CycleNumber                 1665 non-null   int64 \n",
      " 2   Group                       1665 non-null   int64 \n",
      " 3   CycleWithPeakorNot          1665 non-null   int64 \n",
      " 4   ReproductiveCategory        1665 non-null   int64 \n",
      " 5   LengthofCycle               1665 non-null   int64 \n",
      " 6   MeanCycleLength             1665 non-null   object\n",
      " 7   EstimatedDayofOvulation     1665 non-null   object\n",
      " 8   LengthofLutealPhase         1665 non-null   object\n",
      " 9   FirstDayofHigh              1665 non-null   object\n",
      " 10  TotalNumberofHighDays       1665 non-null   object\n",
      " 11  TotalHighPostPeak           1665 non-null   object\n",
      " 12  TotalNumberofPeakDays       1665 non-null   object\n",
      " 13  TotalDaysofFertility        1665 non-null   object\n",
      " 14  TotalFertilityFormula       1665 non-null   object\n",
      " 15  LengthofMenses              1665 non-null   object\n",
      " 16  MeanMensesLength            1665 non-null   object\n",
      " 17  MensesScoreDayOne           1665 non-null   object\n",
      " 18  MensesScoreDayTwo           1665 non-null   object\n",
      " 19  MensesScoreDayThree         1665 non-null   object\n",
      " 20  MensesScoreDayFour          1665 non-null   object\n",
      " 21  MensesScoreDayFive          1665 non-null   object\n",
      " 22  MensesScoreDaySix           1665 non-null   object\n",
      " 23  MensesScoreDaySeven         1665 non-null   object\n",
      " 24  MensesScoreDayEight         1665 non-null   object\n",
      " 25  MensesScoreDayNine          1665 non-null   object\n",
      " 26  MensesScoreDayTen           1665 non-null   object\n",
      " 27  MensesScoreDay11            1665 non-null   object\n",
      " 28  MensesScoreDay12            1665 non-null   object\n",
      " 29  MensesScoreDay13            1665 non-null   object\n",
      " 30  MensesScoreDay14            1665 non-null   object\n",
      " 31  MensesScoreDay15            1665 non-null   object\n",
      " 32  TotalMensesScore            1665 non-null   object\n",
      " 33  MeanBleedingIntensity       1665 non-null   object\n",
      " 34  NumberofDaysofIntercourse   1665 non-null   object\n",
      " 35  IntercourseInFertileWindow  1665 non-null   object\n",
      " 36  UnusualBleeding             1665 non-null   object\n",
      " 37  PhasesBleeding              1665 non-null   object\n",
      " 38  IntercourseDuringUnusBleed  1665 non-null   object\n",
      " 39  Age                         1665 non-null   object\n",
      " 40  AgeM                        1665 non-null   object\n",
      " 41  Maristatus                  1665 non-null   object\n",
      " 42  MaristatusM                 1665 non-null   object\n",
      " 43  Yearsmarried                1665 non-null   object\n",
      " 44  Wedding                     1665 non-null   object\n",
      " 45  Religion                    1665 non-null   object\n",
      " 46  ReligionM                   1665 non-null   object\n",
      " 47  Ethnicity                   1665 non-null   object\n",
      " 48  EthnicityM                  1665 non-null   object\n",
      " 49  Schoolyears                 1665 non-null   object\n",
      " 50  SchoolyearsM                1665 non-null   object\n",
      " 51  OccupationM                 1665 non-null   object\n",
      " 52  IncomeM                     1665 non-null   object\n",
      " 53  Height                      1665 non-null   object\n",
      " 54  Weight                      1665 non-null   object\n",
      " 55  Reprocate                   1665 non-null   object\n",
      " 56  Numberpreg                  1665 non-null   object\n",
      " 57  Livingkids                  1665 non-null   object\n",
      " 58  Miscarriages                1665 non-null   object\n",
      " 59  Abortions                   1665 non-null   object\n",
      " 60  Medvits                     1665 non-null   object\n",
      " 61  Medvitexplain               1665 non-null   object\n",
      " 62  Gynosurgeries               1665 non-null   object\n",
      " 63  LivingkidsM                 1665 non-null   object\n",
      " 64  Boys                        1665 non-null   object\n",
      " 65  Girls                       1665 non-null   object\n",
      " 66  MedvitsM                    1665 non-null   object\n",
      " 67  MedvitexplainM              1665 non-null   object\n",
      " 68  Urosurgeries                1665 non-null   object\n",
      " 69  Breastfeeding               1665 non-null   object\n",
      " 70  Method                      1665 non-null   object\n",
      " 71  Prevmethod                  1665 non-null   object\n",
      " 72  Methoddate                  1665 non-null   object\n",
      " 73  Whychart                    1665 non-null   object\n",
      " 74  Nextpreg                    1665 non-null   object\n",
      " 75  NextpregM                   1665 non-null   object\n",
      " 76  Spousesame                  1665 non-null   object\n",
      " 77  SpousesameM                 1665 non-null   object\n",
      " 78  Timeattemptpreg             1665 non-null   object\n",
      " 79  BMI                         1665 non-null   object\n",
      "dtypes: int64(5), object(75)\n",
      "memory usage: 1.0+ MB\n"
     ]
    }
   ],
   "source": [
    "df.info()"
   ]
  },
  {
   "cell_type": "code",
   "execution_count": 5,
   "metadata": {},
   "outputs": [],
   "source": [
    "# df['MeanCycleLength'] = df['MeanCycleLength'].replace('', np.nan)\n",
    "num_feats = ['LengthofCycle', 'LengthofLutealPhase', 'FirstDayofHigh', 'TotalNumberofHighDays', 'TotalNumberofPeakDays','LengthofMenses', 'TotalMensesScore', 'Age', 'Height', 'Weight', 'Numberpreg', 'Abortions', 'BMI', 'MensesScoreDayOne', 'MensesScoreDayTwo', 'MensesScoreDayThree',\n",
    "       'MensesScoreDayFour', 'MensesScoreDayFive', 'MensesScoreDaySix'] # impute menses scores with 0\n",
    "\n",
    "for col in num_feats:\n",
    "    df[col] = pd.to_numeric(df[col], errors='coerce')\n",
    "# df['MeanCycleLength'] = pd.to_numeric(df['MeanCycleLength'], errors='coerce')\n",
    "\n",
    "df['EstimatedDayofOvulation'] = pd.to_numeric(df['EstimatedDayofOvulation'], errors='coerce')\n",
    "\n",
    "\n",
    "# df['MeanCycleLength'] = df['MeanCycleLength'].astype(float)\n",
    "# df.astype({'MeanCycleLength': 'float'}).dtypes\n"
   ]
  },
  {
   "cell_type": "code",
   "execution_count": 6,
   "metadata": {},
   "outputs": [
    {
     "name": "stdout",
     "output_type": "stream",
     "text": [
      "<class 'pandas.core.frame.DataFrame'>\n",
      "RangeIndex: 1665 entries, 0 to 1664\n",
      "Data columns (total 80 columns):\n",
      " #   Column                      Non-Null Count  Dtype  \n",
      "---  ------                      --------------  -----  \n",
      " 0   ClientID                    1665 non-null   object \n",
      " 1   CycleNumber                 1665 non-null   int64  \n",
      " 2   Group                       1665 non-null   int64  \n",
      " 3   CycleWithPeakorNot          1665 non-null   int64  \n",
      " 4   ReproductiveCategory        1665 non-null   int64  \n",
      " 5   LengthofCycle               1665 non-null   int64  \n",
      " 6   MeanCycleLength             1665 non-null   object \n",
      " 7   EstimatedDayofOvulation     1515 non-null   float64\n",
      " 8   LengthofLutealPhase         1514 non-null   float64\n",
      " 9   FirstDayofHigh              1407 non-null   float64\n",
      " 10  TotalNumberofHighDays       1653 non-null   float64\n",
      " 11  TotalHighPostPeak           1665 non-null   object \n",
      " 12  TotalNumberofPeakDays       1649 non-null   float64\n",
      " 13  TotalDaysofFertility        1665 non-null   object \n",
      " 14  TotalFertilityFormula       1665 non-null   object \n",
      " 15  LengthofMenses              1661 non-null   float64\n",
      " 16  MeanMensesLength            1665 non-null   object \n",
      " 17  MensesScoreDayOne           1661 non-null   float64\n",
      " 18  MensesScoreDayTwo           1661 non-null   float64\n",
      " 19  MensesScoreDayThree         1640 non-null   float64\n",
      " 20  MensesScoreDayFour          1578 non-null   float64\n",
      " 21  MensesScoreDayFive          1231 non-null   float64\n",
      " 22  MensesScoreDaySix           603 non-null    float64\n",
      " 23  MensesScoreDaySeven         1665 non-null   object \n",
      " 24  MensesScoreDayEight         1665 non-null   object \n",
      " 25  MensesScoreDayNine          1665 non-null   object \n",
      " 26  MensesScoreDayTen           1665 non-null   object \n",
      " 27  MensesScoreDay11            1665 non-null   object \n",
      " 28  MensesScoreDay12            1665 non-null   object \n",
      " 29  MensesScoreDay13            1665 non-null   object \n",
      " 30  MensesScoreDay14            1665 non-null   object \n",
      " 31  MensesScoreDay15            1665 non-null   object \n",
      " 32  TotalMensesScore            1661 non-null   float64\n",
      " 33  MeanBleedingIntensity       1665 non-null   object \n",
      " 34  NumberofDaysofIntercourse   1665 non-null   object \n",
      " 35  IntercourseInFertileWindow  1665 non-null   object \n",
      " 36  UnusualBleeding             1665 non-null   object \n",
      " 37  PhasesBleeding              1665 non-null   object \n",
      " 38  IntercourseDuringUnusBleed  1665 non-null   object \n",
      " 39  Age                         142 non-null    float64\n",
      " 40  AgeM                        1665 non-null   object \n",
      " 41  Maristatus                  1665 non-null   object \n",
      " 42  MaristatusM                 1665 non-null   object \n",
      " 43  Yearsmarried                1665 non-null   object \n",
      " 44  Wedding                     1665 non-null   object \n",
      " 45  Religion                    1665 non-null   object \n",
      " 46  ReligionM                   1665 non-null   object \n",
      " 47  Ethnicity                   1665 non-null   object \n",
      " 48  EthnicityM                  1665 non-null   object \n",
      " 49  Schoolyears                 1665 non-null   object \n",
      " 50  SchoolyearsM                1665 non-null   object \n",
      " 51  OccupationM                 1665 non-null   object \n",
      " 52  IncomeM                     1665 non-null   object \n",
      " 53  Height                      133 non-null    float64\n",
      " 54  Weight                      134 non-null    float64\n",
      " 55  Reprocate                   1665 non-null   object \n",
      " 56  Numberpreg                  142 non-null    float64\n",
      " 57  Livingkids                  1665 non-null   object \n",
      " 58  Miscarriages                1665 non-null   object \n",
      " 59  Abortions                   139 non-null    float64\n",
      " 60  Medvits                     1665 non-null   object \n",
      " 61  Medvitexplain               1665 non-null   object \n",
      " 62  Gynosurgeries               1665 non-null   object \n",
      " 63  LivingkidsM                 1665 non-null   object \n",
      " 64  Boys                        1665 non-null   object \n",
      " 65  Girls                       1665 non-null   object \n",
      " 66  MedvitsM                    1665 non-null   object \n",
      " 67  MedvitexplainM              1665 non-null   object \n",
      " 68  Urosurgeries                1665 non-null   object \n",
      " 69  Breastfeeding               1665 non-null   object \n",
      " 70  Method                      1665 non-null   object \n",
      " 71  Prevmethod                  1665 non-null   object \n",
      " 72  Methoddate                  1665 non-null   object \n",
      " 73  Whychart                    1665 non-null   object \n",
      " 74  Nextpreg                    1665 non-null   object \n",
      " 75  NextpregM                   1665 non-null   object \n",
      " 76  Spousesame                  1665 non-null   object \n",
      " 77  SpousesameM                 1665 non-null   object \n",
      " 78  Timeattemptpreg             1665 non-null   object \n",
      " 79  BMI                         131 non-null    float64\n",
      "dtypes: float64(19), int64(5), object(56)\n",
      "memory usage: 1.0+ MB\n"
     ]
    }
   ],
   "source": [
    "df.info()"
   ]
  },
  {
   "cell_type": "code",
   "execution_count": 7,
   "metadata": {},
   "outputs": [
    {
     "data": {
      "text/html": [
       "<div>\n",
       "<style scoped>\n",
       "    .dataframe tbody tr th:only-of-type {\n",
       "        vertical-align: middle;\n",
       "    }\n",
       "\n",
       "    .dataframe tbody tr th {\n",
       "        vertical-align: top;\n",
       "    }\n",
       "\n",
       "    .dataframe thead th {\n",
       "        text-align: right;\n",
       "    }\n",
       "</style>\n",
       "<table border=\"1\" class=\"dataframe\">\n",
       "  <thead>\n",
       "    <tr style=\"text-align: right;\">\n",
       "      <th></th>\n",
       "      <th>ClientID</th>\n",
       "      <th>CycleNumber</th>\n",
       "      <th>Group</th>\n",
       "      <th>CycleWithPeakorNot</th>\n",
       "      <th>ReproductiveCategory</th>\n",
       "      <th>LengthofCycle</th>\n",
       "      <th>MeanCycleLength</th>\n",
       "      <th>EstimatedDayofOvulation</th>\n",
       "      <th>LengthofLutealPhase</th>\n",
       "      <th>FirstDayofHigh</th>\n",
       "      <th>...</th>\n",
       "      <th>Method</th>\n",
       "      <th>Prevmethod</th>\n",
       "      <th>Methoddate</th>\n",
       "      <th>Whychart</th>\n",
       "      <th>Nextpreg</th>\n",
       "      <th>NextpregM</th>\n",
       "      <th>Spousesame</th>\n",
       "      <th>SpousesameM</th>\n",
       "      <th>Timeattemptpreg</th>\n",
       "      <th>BMI</th>\n",
       "    </tr>\n",
       "  </thead>\n",
       "  <tbody>\n",
       "    <tr>\n",
       "      <th>count</th>\n",
       "      <td>1665</td>\n",
       "      <td>1665.000000</td>\n",
       "      <td>1665.000000</td>\n",
       "      <td>1665.000000</td>\n",
       "      <td>1665.000000</td>\n",
       "      <td>1665.000000</td>\n",
       "      <td>1665</td>\n",
       "      <td>1515.000000</td>\n",
       "      <td>1514.000000</td>\n",
       "      <td>1407.000000</td>\n",
       "      <td>...</td>\n",
       "      <td>1665</td>\n",
       "      <td>1665</td>\n",
       "      <td>1665</td>\n",
       "      <td>1665</td>\n",
       "      <td>1665</td>\n",
       "      <td>1665</td>\n",
       "      <td>1665</td>\n",
       "      <td>1665</td>\n",
       "      <td>1665</td>\n",
       "      <td>131.000000</td>\n",
       "    </tr>\n",
       "    <tr>\n",
       "      <th>unique</th>\n",
       "      <td>159</td>\n",
       "      <td>NaN</td>\n",
       "      <td>NaN</td>\n",
       "      <td>NaN</td>\n",
       "      <td>NaN</td>\n",
       "      <td>NaN</td>\n",
       "      <td>105</td>\n",
       "      <td>NaN</td>\n",
       "      <td>NaN</td>\n",
       "      <td>NaN</td>\n",
       "      <td>...</td>\n",
       "      <td>8</td>\n",
       "      <td>9</td>\n",
       "      <td>16</td>\n",
       "      <td>6</td>\n",
       "      <td>8</td>\n",
       "      <td>8</td>\n",
       "      <td>4</td>\n",
       "      <td>3</td>\n",
       "      <td>2</td>\n",
       "      <td>NaN</td>\n",
       "    </tr>\n",
       "    <tr>\n",
       "      <th>top</th>\n",
       "      <td>nfp8122</td>\n",
       "      <td>NaN</td>\n",
       "      <td>NaN</td>\n",
       "      <td>NaN</td>\n",
       "      <td>NaN</td>\n",
       "      <td>NaN</td>\n",
       "      <td></td>\n",
       "      <td>NaN</td>\n",
       "      <td>NaN</td>\n",
       "      <td>NaN</td>\n",
       "      <td>...</td>\n",
       "      <td></td>\n",
       "      <td></td>\n",
       "      <td></td>\n",
       "      <td></td>\n",
       "      <td></td>\n",
       "      <td></td>\n",
       "      <td></td>\n",
       "      <td></td>\n",
       "      <td></td>\n",
       "      <td>NaN</td>\n",
       "    </tr>\n",
       "    <tr>\n",
       "      <th>freq</th>\n",
       "      <td>45</td>\n",
       "      <td>NaN</td>\n",
       "      <td>NaN</td>\n",
       "      <td>NaN</td>\n",
       "      <td>NaN</td>\n",
       "      <td>NaN</td>\n",
       "      <td>1524</td>\n",
       "      <td>NaN</td>\n",
       "      <td>NaN</td>\n",
       "      <td>NaN</td>\n",
       "      <td>...</td>\n",
       "      <td>1523</td>\n",
       "      <td>1635</td>\n",
       "      <td>1633</td>\n",
       "      <td>1523</td>\n",
       "      <td>1523</td>\n",
       "      <td>1524</td>\n",
       "      <td>1523</td>\n",
       "      <td>1523</td>\n",
       "      <td>1523</td>\n",
       "      <td>NaN</td>\n",
       "    </tr>\n",
       "    <tr>\n",
       "      <th>mean</th>\n",
       "      <td>NaN</td>\n",
       "      <td>8.040841</td>\n",
       "      <td>0.382583</td>\n",
       "      <td>0.912312</td>\n",
       "      <td>0.055255</td>\n",
       "      <td>29.299099</td>\n",
       "      <td>NaN</td>\n",
       "      <td>15.963036</td>\n",
       "      <td>13.270806</td>\n",
       "      <td>11.761905</td>\n",
       "      <td>...</td>\n",
       "      <td>NaN</td>\n",
       "      <td>NaN</td>\n",
       "      <td>NaN</td>\n",
       "      <td>NaN</td>\n",
       "      <td>NaN</td>\n",
       "      <td>NaN</td>\n",
       "      <td>NaN</td>\n",
       "      <td>NaN</td>\n",
       "      <td>NaN</td>\n",
       "      <td>25.206891</td>\n",
       "    </tr>\n",
       "    <tr>\n",
       "      <th>std</th>\n",
       "      <td>NaN</td>\n",
       "      <td>6.593686</td>\n",
       "      <td>0.486164</td>\n",
       "      <td>0.282925</td>\n",
       "      <td>0.479706</td>\n",
       "      <td>3.887932</td>\n",
       "      <td>NaN</td>\n",
       "      <td>3.548488</td>\n",
       "      <td>2.671602</td>\n",
       "      <td>3.253758</td>\n",
       "      <td>...</td>\n",
       "      <td>NaN</td>\n",
       "      <td>NaN</td>\n",
       "      <td>NaN</td>\n",
       "      <td>NaN</td>\n",
       "      <td>NaN</td>\n",
       "      <td>NaN</td>\n",
       "      <td>NaN</td>\n",
       "      <td>NaN</td>\n",
       "      <td>NaN</td>\n",
       "      <td>5.541611</td>\n",
       "    </tr>\n",
       "    <tr>\n",
       "      <th>min</th>\n",
       "      <td>NaN</td>\n",
       "      <td>1.000000</td>\n",
       "      <td>0.000000</td>\n",
       "      <td>0.000000</td>\n",
       "      <td>0.000000</td>\n",
       "      <td>18.000000</td>\n",
       "      <td>NaN</td>\n",
       "      <td>6.000000</td>\n",
       "      <td>1.000000</td>\n",
       "      <td>5.000000</td>\n",
       "      <td>...</td>\n",
       "      <td>NaN</td>\n",
       "      <td>NaN</td>\n",
       "      <td>NaN</td>\n",
       "      <td>NaN</td>\n",
       "      <td>NaN</td>\n",
       "      <td>NaN</td>\n",
       "      <td>NaN</td>\n",
       "      <td>NaN</td>\n",
       "      <td>NaN</td>\n",
       "      <td>16.826657</td>\n",
       "    </tr>\n",
       "    <tr>\n",
       "      <th>25%</th>\n",
       "      <td>NaN</td>\n",
       "      <td>3.000000</td>\n",
       "      <td>0.000000</td>\n",
       "      <td>1.000000</td>\n",
       "      <td>0.000000</td>\n",
       "      <td>27.000000</td>\n",
       "      <td>NaN</td>\n",
       "      <td>14.000000</td>\n",
       "      <td>12.000000</td>\n",
       "      <td>10.000000</td>\n",
       "      <td>...</td>\n",
       "      <td>NaN</td>\n",
       "      <td>NaN</td>\n",
       "      <td>NaN</td>\n",
       "      <td>NaN</td>\n",
       "      <td>NaN</td>\n",
       "      <td>NaN</td>\n",
       "      <td>NaN</td>\n",
       "      <td>NaN</td>\n",
       "      <td>NaN</td>\n",
       "      <td>21.086579</td>\n",
       "    </tr>\n",
       "    <tr>\n",
       "      <th>50%</th>\n",
       "      <td>NaN</td>\n",
       "      <td>7.000000</td>\n",
       "      <td>0.000000</td>\n",
       "      <td>1.000000</td>\n",
       "      <td>0.000000</td>\n",
       "      <td>29.000000</td>\n",
       "      <td>NaN</td>\n",
       "      <td>15.000000</td>\n",
       "      <td>13.000000</td>\n",
       "      <td>11.000000</td>\n",
       "      <td>...</td>\n",
       "      <td>NaN</td>\n",
       "      <td>NaN</td>\n",
       "      <td>NaN</td>\n",
       "      <td>NaN</td>\n",
       "      <td>NaN</td>\n",
       "      <td>NaN</td>\n",
       "      <td>NaN</td>\n",
       "      <td>NaN</td>\n",
       "      <td>NaN</td>\n",
       "      <td>24.138503</td>\n",
       "    </tr>\n",
       "    <tr>\n",
       "      <th>75%</th>\n",
       "      <td>NaN</td>\n",
       "      <td>11.000000</td>\n",
       "      <td>1.000000</td>\n",
       "      <td>1.000000</td>\n",
       "      <td>0.000000</td>\n",
       "      <td>31.000000</td>\n",
       "      <td>NaN</td>\n",
       "      <td>18.000000</td>\n",
       "      <td>14.000000</td>\n",
       "      <td>13.000000</td>\n",
       "      <td>...</td>\n",
       "      <td>NaN</td>\n",
       "      <td>NaN</td>\n",
       "      <td>NaN</td>\n",
       "      <td>NaN</td>\n",
       "      <td>NaN</td>\n",
       "      <td>NaN</td>\n",
       "      <td>NaN</td>\n",
       "      <td>NaN</td>\n",
       "      <td>NaN</td>\n",
       "      <td>27.933911</td>\n",
       "    </tr>\n",
       "    <tr>\n",
       "      <th>max</th>\n",
       "      <td>NaN</td>\n",
       "      <td>45.000000</td>\n",
       "      <td>1.000000</td>\n",
       "      <td>1.000000</td>\n",
       "      <td>9.000000</td>\n",
       "      <td>54.000000</td>\n",
       "      <td>NaN</td>\n",
       "      <td>29.000000</td>\n",
       "      <td>41.000000</td>\n",
       "      <td>26.000000</td>\n",
       "      <td>...</td>\n",
       "      <td>NaN</td>\n",
       "      <td>NaN</td>\n",
       "      <td>NaN</td>\n",
       "      <td>NaN</td>\n",
       "      <td>NaN</td>\n",
       "      <td>NaN</td>\n",
       "      <td>NaN</td>\n",
       "      <td>NaN</td>\n",
       "      <td>NaN</td>\n",
       "      <td>49.917160</td>\n",
       "    </tr>\n",
       "  </tbody>\n",
       "</table>\n",
       "<p>11 rows × 80 columns</p>\n",
       "</div>"
      ],
      "text/plain": [
       "       ClientID  CycleNumber        Group  CycleWithPeakorNot  \\\n",
       "count      1665  1665.000000  1665.000000         1665.000000   \n",
       "unique      159          NaN          NaN                 NaN   \n",
       "top     nfp8122          NaN          NaN                 NaN   \n",
       "freq         45          NaN          NaN                 NaN   \n",
       "mean        NaN     8.040841     0.382583            0.912312   \n",
       "std         NaN     6.593686     0.486164            0.282925   \n",
       "min         NaN     1.000000     0.000000            0.000000   \n",
       "25%         NaN     3.000000     0.000000            1.000000   \n",
       "50%         NaN     7.000000     0.000000            1.000000   \n",
       "75%         NaN    11.000000     1.000000            1.000000   \n",
       "max         NaN    45.000000     1.000000            1.000000   \n",
       "\n",
       "        ReproductiveCategory  LengthofCycle MeanCycleLength  \\\n",
       "count            1665.000000    1665.000000            1665   \n",
       "unique                   NaN            NaN             105   \n",
       "top                      NaN            NaN                   \n",
       "freq                     NaN            NaN            1524   \n",
       "mean                0.055255      29.299099             NaN   \n",
       "std                 0.479706       3.887932             NaN   \n",
       "min                 0.000000      18.000000             NaN   \n",
       "25%                 0.000000      27.000000             NaN   \n",
       "50%                 0.000000      29.000000             NaN   \n",
       "75%                 0.000000      31.000000             NaN   \n",
       "max                 9.000000      54.000000             NaN   \n",
       "\n",
       "        EstimatedDayofOvulation  LengthofLutealPhase  FirstDayofHigh  ...  \\\n",
       "count               1515.000000          1514.000000     1407.000000  ...   \n",
       "unique                      NaN                  NaN             NaN  ...   \n",
       "top                         NaN                  NaN             NaN  ...   \n",
       "freq                        NaN                  NaN             NaN  ...   \n",
       "mean                  15.963036            13.270806       11.761905  ...   \n",
       "std                    3.548488             2.671602        3.253758  ...   \n",
       "min                    6.000000             1.000000        5.000000  ...   \n",
       "25%                   14.000000            12.000000       10.000000  ...   \n",
       "50%                   15.000000            13.000000       11.000000  ...   \n",
       "75%                   18.000000            14.000000       13.000000  ...   \n",
       "max                   29.000000            41.000000       26.000000  ...   \n",
       "\n",
       "        Method Prevmethod  Methoddate Whychart Nextpreg  NextpregM Spousesame  \\\n",
       "count     1665       1665        1665     1665     1665       1665       1665   \n",
       "unique       8          9          16        6        8          8          4   \n",
       "top                                                                             \n",
       "freq      1523       1635        1633     1523     1523       1524       1523   \n",
       "mean       NaN        NaN         NaN      NaN      NaN        NaN        NaN   \n",
       "std        NaN        NaN         NaN      NaN      NaN        NaN        NaN   \n",
       "min        NaN        NaN         NaN      NaN      NaN        NaN        NaN   \n",
       "25%        NaN        NaN         NaN      NaN      NaN        NaN        NaN   \n",
       "50%        NaN        NaN         NaN      NaN      NaN        NaN        NaN   \n",
       "75%        NaN        NaN         NaN      NaN      NaN        NaN        NaN   \n",
       "max        NaN        NaN         NaN      NaN      NaN        NaN        NaN   \n",
       "\n",
       "        SpousesameM  Timeattemptpreg         BMI  \n",
       "count          1665             1665  131.000000  \n",
       "unique            3                2         NaN  \n",
       "top                                          NaN  \n",
       "freq           1523             1523         NaN  \n",
       "mean            NaN              NaN   25.206891  \n",
       "std             NaN              NaN    5.541611  \n",
       "min             NaN              NaN   16.826657  \n",
       "25%             NaN              NaN   21.086579  \n",
       "50%             NaN              NaN   24.138503  \n",
       "75%             NaN              NaN   27.933911  \n",
       "max             NaN              NaN   49.917160  \n",
       "\n",
       "[11 rows x 80 columns]"
      ]
     },
     "execution_count": 7,
     "metadata": {},
     "output_type": "execute_result"
    }
   ],
   "source": [
    "df.describe(include=\"all\")"
   ]
  },
  {
   "cell_type": "code",
   "execution_count": 8,
   "metadata": {},
   "outputs": [],
   "source": [
    "# df = df.sort_values(by=['ClientID', 'CycleNumber'])\n",
    "\n",
    "# df.groupby(['ClientID']).ffill()\n",
    "# df['Height'] = df.groupby(['ClientID']).ffill()['Height']\n",
    "# df['Weight'] = df.groupby(['ClientID']).ffill()['Weight']\n",
    "# df['BMI'] = df.groupby(['ClientID']).ffill()['BMI']\n",
    "# df['Age'] = df.groupby(['ClientID']).ffill()['Age']\n",
    "# df\n",
    "df = df.groupby('ClientID').ffill()"
   ]
  },
  {
   "cell_type": "code",
   "execution_count": 9,
   "metadata": {},
   "outputs": [
    {
     "data": {
      "text/html": [
       "<div>\n",
       "<style scoped>\n",
       "    .dataframe tbody tr th:only-of-type {\n",
       "        vertical-align: middle;\n",
       "    }\n",
       "\n",
       "    .dataframe tbody tr th {\n",
       "        vertical-align: top;\n",
       "    }\n",
       "\n",
       "    .dataframe thead th {\n",
       "        text-align: right;\n",
       "    }\n",
       "</style>\n",
       "<table border=\"1\" class=\"dataframe\">\n",
       "  <thead>\n",
       "    <tr style=\"text-align: right;\">\n",
       "      <th></th>\n",
       "      <th>CycleNumber</th>\n",
       "      <th>Group</th>\n",
       "      <th>CycleWithPeakorNot</th>\n",
       "      <th>ReproductiveCategory</th>\n",
       "      <th>LengthofCycle</th>\n",
       "      <th>MeanCycleLength</th>\n",
       "      <th>target</th>\n",
       "      <th>LengthofLutealPhase</th>\n",
       "      <th>FirstDayofHigh</th>\n",
       "      <th>TotalNumberofHighDays</th>\n",
       "      <th>...</th>\n",
       "      <th>Method</th>\n",
       "      <th>Prevmethod</th>\n",
       "      <th>Methoddate</th>\n",
       "      <th>Whychart</th>\n",
       "      <th>Nextpreg</th>\n",
       "      <th>NextpregM</th>\n",
       "      <th>Spousesame</th>\n",
       "      <th>SpousesameM</th>\n",
       "      <th>Timeattemptpreg</th>\n",
       "      <th>BMI</th>\n",
       "    </tr>\n",
       "  </thead>\n",
       "  <tbody>\n",
       "    <tr>\n",
       "      <th>192</th>\n",
       "      <td>8</td>\n",
       "      <td>1</td>\n",
       "      <td>1</td>\n",
       "      <td>0</td>\n",
       "      <td>31</td>\n",
       "      <td></td>\n",
       "      <td>16.0</td>\n",
       "      <td>15.0</td>\n",
       "      <td>15.0</td>\n",
       "      <td>1.0</td>\n",
       "      <td>...</td>\n",
       "      <td></td>\n",
       "      <td></td>\n",
       "      <td></td>\n",
       "      <td></td>\n",
       "      <td></td>\n",
       "      <td></td>\n",
       "      <td></td>\n",
       "      <td></td>\n",
       "      <td></td>\n",
       "      <td>30.110859</td>\n",
       "    </tr>\n",
       "    <tr>\n",
       "      <th>137</th>\n",
       "      <td>1</td>\n",
       "      <td>0</td>\n",
       "      <td>1</td>\n",
       "      <td>1</td>\n",
       "      <td>33</td>\n",
       "      <td>32.6</td>\n",
       "      <td>23.0</td>\n",
       "      <td>10.0</td>\n",
       "      <td>18.0</td>\n",
       "      <td>10.0</td>\n",
       "      <td>...</td>\n",
       "      <td>9</td>\n",
       "      <td></td>\n",
       "      <td></td>\n",
       "      <td>3</td>\n",
       "      <td>0</td>\n",
       "      <td>0</td>\n",
       "      <td>1</td>\n",
       "      <td>1</td>\n",
       "      <td>0</td>\n",
       "      <td>18.775006</td>\n",
       "    </tr>\n",
       "    <tr>\n",
       "      <th>12</th>\n",
       "      <td>13</td>\n",
       "      <td>0</td>\n",
       "      <td>1</td>\n",
       "      <td>0</td>\n",
       "      <td>27</td>\n",
       "      <td></td>\n",
       "      <td>15.0</td>\n",
       "      <td>12.0</td>\n",
       "      <td>10.0</td>\n",
       "      <td>5.0</td>\n",
       "      <td>...</td>\n",
       "      <td></td>\n",
       "      <td></td>\n",
       "      <td></td>\n",
       "      <td></td>\n",
       "      <td></td>\n",
       "      <td></td>\n",
       "      <td></td>\n",
       "      <td></td>\n",
       "      <td></td>\n",
       "      <td>21.254724</td>\n",
       "    </tr>\n",
       "    <tr>\n",
       "      <th>1601</th>\n",
       "      <td>26</td>\n",
       "      <td>0</td>\n",
       "      <td>1</td>\n",
       "      <td>0</td>\n",
       "      <td>36</td>\n",
       "      <td></td>\n",
       "      <td>21.0</td>\n",
       "      <td>15.0</td>\n",
       "      <td>14.0</td>\n",
       "      <td>7.0</td>\n",
       "      <td>...</td>\n",
       "      <td></td>\n",
       "      <td></td>\n",
       "      <td></td>\n",
       "      <td></td>\n",
       "      <td></td>\n",
       "      <td></td>\n",
       "      <td></td>\n",
       "      <td></td>\n",
       "      <td></td>\n",
       "      <td>NaN</td>\n",
       "    </tr>\n",
       "    <tr>\n",
       "      <th>481</th>\n",
       "      <td>10</td>\n",
       "      <td>1</td>\n",
       "      <td>1</td>\n",
       "      <td>0</td>\n",
       "      <td>27</td>\n",
       "      <td></td>\n",
       "      <td>13.0</td>\n",
       "      <td>14.0</td>\n",
       "      <td>10.0</td>\n",
       "      <td>3.0</td>\n",
       "      <td>...</td>\n",
       "      <td></td>\n",
       "      <td></td>\n",
       "      <td></td>\n",
       "      <td></td>\n",
       "      <td></td>\n",
       "      <td></td>\n",
       "      <td></td>\n",
       "      <td></td>\n",
       "      <td></td>\n",
       "      <td>22.860302</td>\n",
       "    </tr>\n",
       "  </tbody>\n",
       "</table>\n",
       "<p>5 rows × 79 columns</p>\n",
       "</div>"
      ],
      "text/plain": [
       "      CycleNumber  Group  CycleWithPeakorNot  ReproductiveCategory  \\\n",
       "192             8      1                   1                     0   \n",
       "137             1      0                   1                     1   \n",
       "12             13      0                   1                     0   \n",
       "1601           26      0                   1                     0   \n",
       "481            10      1                   1                     0   \n",
       "\n",
       "      LengthofCycle MeanCycleLength  target  LengthofLutealPhase  \\\n",
       "192              31                    16.0                 15.0   \n",
       "137              33            32.6    23.0                 10.0   \n",
       "12               27                    15.0                 12.0   \n",
       "1601             36                    21.0                 15.0   \n",
       "481              27                    13.0                 14.0   \n",
       "\n",
       "      FirstDayofHigh  TotalNumberofHighDays  ... Method  Prevmethod  \\\n",
       "192             15.0                    1.0  ...                      \n",
       "137             18.0                   10.0  ...      9               \n",
       "12              10.0                    5.0  ...                      \n",
       "1601            14.0                    7.0  ...                      \n",
       "481             10.0                    3.0  ...                      \n",
       "\n",
       "     Methoddate Whychart  Nextpreg NextpregM  Spousesame  SpousesameM  \\\n",
       "192                                                                     \n",
       "137                    3         0         0           1            1   \n",
       "12                                                                      \n",
       "1601                                                                    \n",
       "481                                                                     \n",
       "\n",
       "      Timeattemptpreg        BMI  \n",
       "192                    30.110859  \n",
       "137                 0  18.775006  \n",
       "12                     21.254724  \n",
       "1601                         NaN  \n",
       "481                    22.860302  \n",
       "\n",
       "[5 rows x 79 columns]"
      ]
     },
     "execution_count": 9,
     "metadata": {},
     "output_type": "execute_result"
    }
   ],
   "source": [
    "df.rename(columns={\"EstimatedDayofOvulation\": \"target\"}, inplace=True)\n",
    "df.dropna(subset=[\"target\"], inplace=True)\n",
    "train_df, test_df = train_test_split(df, test_size=0.10, random_state=123)\n",
    "train_df.head()"
   ]
  },
  {
   "cell_type": "code",
   "execution_count": 10,
   "metadata": {},
   "outputs": [
    {
     "data": {
      "text/plain": [
       "(1483, 79)"
      ]
     },
     "execution_count": 10,
     "metadata": {},
     "output_type": "execute_result"
    }
   ],
   "source": [
    "train_df.shape"
   ]
  },
  {
   "cell_type": "code",
   "execution_count": 11,
   "metadata": {},
   "outputs": [
    {
     "data": {
      "text/plain": [
       "(165, 79)"
      ]
     },
     "execution_count": 11,
     "metadata": {},
     "output_type": "execute_result"
    }
   ],
   "source": [
    "test_df.shape"
   ]
  },
  {
   "cell_type": "markdown",
   "metadata": {},
   "source": [
    "### Target Class\n",
    "Our target class is EstimatedDayofOvulation. We will use the other dataset features to predict the estimated ovulation day for an app user."
   ]
  },
  {
   "cell_type": "code",
   "execution_count": 12,
   "metadata": {},
   "outputs": [],
   "source": [
    "X_train = train_df.drop(columns=[\"target\"])\n",
    "y_train = train_df[\"target\"]\n",
    "\n",
    "X_test = test_df.drop(columns=[\"target\"])\n",
    "y_test = test_df[\"target\"]"
   ]
  },
  {
   "cell_type": "code",
   "execution_count": 13,
   "metadata": {},
   "outputs": [
    {
     "data": {
      "text/plain": [
       "0"
      ]
     },
     "execution_count": 13,
     "metadata": {},
     "output_type": "execute_result"
    }
   ],
   "source": [
    "y_train.isna().sum()"
   ]
  },
  {
   "cell_type": "code",
   "execution_count": 14,
   "metadata": {},
   "outputs": [
    {
     "data": {
      "text/plain": [
       "Index(['CycleNumber', 'Group', 'CycleWithPeakorNot', 'ReproductiveCategory',\n",
       "       'LengthofCycle', 'MeanCycleLength', 'LengthofLutealPhase',\n",
       "       'FirstDayofHigh', 'TotalNumberofHighDays', 'TotalHighPostPeak',\n",
       "       'TotalNumberofPeakDays', 'TotalDaysofFertility',\n",
       "       'TotalFertilityFormula', 'LengthofMenses', 'MeanMensesLength',\n",
       "       'MensesScoreDayOne', 'MensesScoreDayTwo', 'MensesScoreDayThree',\n",
       "       'MensesScoreDayFour', 'MensesScoreDayFive', 'MensesScoreDaySix',\n",
       "       'MensesScoreDaySeven', 'MensesScoreDayEight', 'MensesScoreDayNine',\n",
       "       'MensesScoreDayTen', 'MensesScoreDay11', 'MensesScoreDay12',\n",
       "       'MensesScoreDay13', 'MensesScoreDay14', 'MensesScoreDay15',\n",
       "       'TotalMensesScore', 'MeanBleedingIntensity',\n",
       "       'NumberofDaysofIntercourse', 'IntercourseInFertileWindow',\n",
       "       'UnusualBleeding', 'PhasesBleeding', 'IntercourseDuringUnusBleed',\n",
       "       'Age', 'AgeM', 'Maristatus', 'MaristatusM', 'Yearsmarried', 'Wedding',\n",
       "       'Religion', 'ReligionM', 'Ethnicity', 'EthnicityM', 'Schoolyears',\n",
       "       'SchoolyearsM', 'OccupationM', 'IncomeM', 'Height', 'Weight',\n",
       "       'Reprocate', 'Numberpreg', 'Livingkids', 'Miscarriages', 'Abortions',\n",
       "       'Medvits', 'Medvitexplain', 'Gynosurgeries', 'LivingkidsM', 'Boys',\n",
       "       'Girls', 'MedvitsM', 'MedvitexplainM', 'Urosurgeries', 'Breastfeeding',\n",
       "       'Method', 'Prevmethod', 'Methoddate', 'Whychart', 'Nextpreg',\n",
       "       'NextpregM', 'Spousesame', 'SpousesameM', 'Timeattemptpreg', 'BMI'],\n",
       "      dtype='object')"
      ]
     },
     "execution_count": 14,
     "metadata": {},
     "output_type": "execute_result"
    }
   ],
   "source": [
    "X_train.columns"
   ]
  },
  {
   "cell_type": "markdown",
   "metadata": {},
   "source": [
    "### Feature Transformation\n",
    "\n",
    "We will use simple imputer and standard scaler to transform our data."
   ]
  },
  {
   "cell_type": "code",
   "execution_count": 15,
   "metadata": {},
   "outputs": [],
   "source": [
    "num_feats = ['LengthofCycle', 'LengthofLutealPhase', 'FirstDayofHigh', 'TotalNumberofHighDays', 'TotalNumberofPeakDays','LengthofMenses', 'TotalMensesScore', 'Age', 'Height', 'Weight', 'Numberpreg', 'Abortions', 'BMI', 'MensesScoreDayOne', 'MensesScoreDayTwo', 'MensesScoreDayThree',\n",
    "       'MensesScoreDayFour', 'MensesScoreDayFive', 'MensesScoreDaySix'] # impute menses scores with 0\n",
    "\n",
    "# passthrough_feats = ['Group', 'CycleWithPeakorNot']\n",
    "# drop the rest\n",
    "\n",
    "# height, weight, BMI, age need to carry down\n",
    "# 19 columns "
   ]
  },
  {
   "cell_type": "code",
   "execution_count": 16,
   "metadata": {},
   "outputs": [],
   "source": [
    "from sklearn.impute import SimpleImputer\n",
    "from sklearn.preprocessing import StandardScaler\n",
    "from sklearn.compose import make_column_transformer\n",
    "\n",
    "num_transformer = make_pipeline(SimpleImputer(strategy=\"median\"), StandardScaler())"
   ]
  },
  {
   "cell_type": "code",
   "execution_count": 17,
   "metadata": {},
   "outputs": [],
   "source": [
    "preprocessor = make_column_transformer(\n",
    "    (num_transformer, num_feats),\n",
    "    # (\"passthrough\", passthrough_feats),\n",
    "    # other features are dropped\n",
    ")"
   ]
  },
  {
   "cell_type": "code",
   "execution_count": 18,
   "metadata": {},
   "outputs": [
    {
     "data": {
      "text/plain": [
       "(1483, 78)"
      ]
     },
     "execution_count": 18,
     "metadata": {},
     "output_type": "execute_result"
    }
   ],
   "source": [
    "X_train.shape"
   ]
  },
  {
   "cell_type": "code",
   "execution_count": 19,
   "metadata": {},
   "outputs": [],
   "source": [
    "# X_train = preprocessor.fit_transform(X_train)\n",
    "# X_test = preprocessor.transform(X_test)\n",
    "# X_train_df = pd.DataFrame(X_train, columns=num_feats)"
   ]
  },
  {
   "cell_type": "code",
   "execution_count": 20,
   "metadata": {},
   "outputs": [],
   "source": [
    "# X_train[0]"
   ]
  },
  {
   "cell_type": "code",
   "execution_count": 21,
   "metadata": {},
   "outputs": [
    {
     "data": {
      "text/plain": [
       "192     16.0\n",
       "137     23.0\n",
       "12      15.0\n",
       "1601    21.0\n",
       "481     13.0\n",
       "        ... \n",
       "1136    14.0\n",
       "1362    12.0\n",
       "1423    18.0\n",
       "1405    16.0\n",
       "1551    14.0\n",
       "Name: target, Length: 1483, dtype: float64"
      ]
     },
     "execution_count": 21,
     "metadata": {},
     "output_type": "execute_result"
    }
   ],
   "source": [
    "y_train"
   ]
  },
  {
   "cell_type": "code",
   "execution_count": 22,
   "metadata": {},
   "outputs": [],
   "source": [
    "from sklearn.linear_model import Ridge\n",
    "\n",
    "pipe_lr = make_pipeline(preprocessor, Ridge())"
   ]
  },
  {
   "cell_type": "code",
   "execution_count": 23,
   "metadata": {},
   "outputs": [],
   "source": [
    "pipe_lr.fit(X_train, y_train);"
   ]
  },
  {
   "cell_type": "code",
   "execution_count": 24,
   "metadata": {},
   "outputs": [
    {
     "data": {
      "text/plain": [
       "0.8598035729844141"
      ]
     },
     "execution_count": 24,
     "metadata": {},
     "output_type": "execute_result"
    }
   ],
   "source": [
    "pipe_lr.score(X_train, y_train)"
   ]
  },
  {
   "cell_type": "code",
   "execution_count": 25,
   "metadata": {},
   "outputs": [
    {
     "data": {
      "text/plain": [
       "0.9413972573033073"
      ]
     },
     "execution_count": 25,
     "metadata": {},
     "output_type": "execute_result"
    }
   ],
   "source": [
    "pipe_lr.score(X_test, y_test)"
   ]
  },
  {
   "cell_type": "markdown",
   "metadata": {
    "slideshow": {
     "slide_type": "slide"
    }
   },
   "source": [
    "### Saving the model \n",
    "\n",
    "- If we want to deploy a model, we need to save it. \n",
    "- We are using `joblib` for that. "
   ]
  },
  {
   "cell_type": "code",
   "execution_count": 26,
   "metadata": {},
   "outputs": [],
   "source": [
    "import joblib\n",
    "\n",
    "with open(\"web_api/ovulationpredictor.joblib\", \"wb\") as f:\n",
    "    joblib.dump(pipe_lr, f)\n",
    "with open(\"web_application/ovulationpredictor.joblib\", \"wb\") as f:\n",
    "    joblib.dump(pipe_lr, f)"
   ]
  },
  {
   "cell_type": "markdown",
   "metadata": {},
   "source": [
    "We'll define a function that accepts input data as a dictionary and returns a prediction:"
   ]
  },
  {
   "cell_type": "markdown",
   "metadata": {
    "slideshow": {
     "slide_type": "slide"
    }
   },
   "source": [
    "### Loading our saved model "
   ]
  },
  {
   "cell_type": "markdown",
   "metadata": {},
   "source": [
    "Let's write a function to get predictions. "
   ]
  },
  {
   "cell_type": "code",
   "execution_count": 29,
   "metadata": {},
   "outputs": [],
   "source": [
    "def return_prediction(model, input_list):   \n",
    "    input = pd.DataFrame(input_list, index=[0])\n",
    "    prediction = model.predict(input)[0]\n",
    "    return prediction"
   ]
  },
  {
   "cell_type": "code",
   "execution_count": 30,
   "metadata": {},
   "outputs": [
    {
     "data": {
      "text/plain": [
       "1.6754392644317733"
      ]
     },
     "execution_count": 30,
     "metadata": {},
     "output_type": "execute_result"
    }
   ],
   "source": [
    "from array import array\n",
    "\n",
    "model = joblib.load(\"web_api/ovulationpredictor.joblib\") # load the saved model\n",
    "\n",
    "input_list = { # sample data\n",
    " 'LengthofCycle': 0.3228787189273703,\n",
    " 'LengthofLutealPhase': 0.9539014718391354,\n",
    " 'FirstDayofHigh': 0.8783249921503523,\n",
    " 'TotalNumberofHighDays': 0.6267111465085908,\n",
    " 'TotalNumberofPeakDays': 0.9608764899313866,\n",
    " 'LengthofMenses': 0.4591566374790159,\n",
    " 'TotalMensesScore': 0.6019266855267724,\n",
    " 'Age': 0.5527174199241642,\n",
    " 'Height': 0.7752654666120737,\n",
    " 'Weight': 0.5712515184134752,\n",
    " 'Numberpreg': 0.8577488445619815,\n",
    " 'Abortions': 0.1092300656164632,\n",
    " 'BMI': 0.085970773511727,\n",
    " 'MensesScoreDayOne': 0.31597228575643843,\n",
    " 'MensesScoreDayTwo': 0.3943271147273022,\n",
    " 'MensesScoreDayThree': 0.8378335499479616,\n",
    " 'MensesScoreDayFour': 0.7607489669348005,\n",
    " 'MensesScoreDayFive': 0.40170033015553275,\n",
    " 'MensesScoreDaySix': 0.8547654462351196\n",
    "}\n",
    "\n",
    "# input_list = {'LengthofCycle': 26, 'LengthofLutealPhase': 5, 'FirstDayofHigh': 7,'TotalNumberofHighDays': 12, 'TotalNumberofPeakDays': 8, 'LengthofMenses': 7,'TotalMensesScore': 8, 'Age': 15, 'Height': 20, 'Weight': 15, 'Numberpreg': 0,'Abortions': 1, 'BMI': 27, 'MensesScoreDayOne': 1, 'MensesScoreDayTwo': 2,'MensesScoreDayThree', 'MensesScoreDayFour', 'MensesScoreDayFive',\\n       'MensesScoreDaySix'],\\n  }\n",
    "return_prediction(model, input_list)"
   ]
  },
  {
   "cell_type": "markdown",
   "metadata": {},
   "source": [
    "This function appears in the `app.py` that we'll be using shortly."
   ]
  },
  {
   "cell_type": "markdown",
   "metadata": {
    "slideshow": {
     "slide_type": "slide"
    }
   },
   "source": [
    "### (Optional) Setting up a directory structure and environment"
   ]
  },
  {
   "cell_type": "markdown",
   "metadata": {},
   "source": [
    "- We need a specific directory structure to help us easily deploy our machine learning model. \n",
    "- This is already set up in this repo.\n",
    "\n",
    "```\n",
    "├── web_api\n",
    "│   └── moment_predictor.joblib  # this is the machine learning model we have built locally\n",
    "│   └── app.py  # the file that defines our flask API\n",
    "│   └── Procfile  # required to help start flask app\n",
    "│   └── requirements.txt  # file containing required packages\n",
    "│   \n",
    "└── web_application\n",
    "    └── moment_predictor.joblib  # this is the machine learning model we have built locally\n",
    "    └── app.py  # the file that defines our flask API\n",
    "    └── Procfile  # required to help start flask app\n",
    "    └── requirements.txt  # file containing required packages\n",
    "    └── templates  # contains HTML templates to help us build the web application\n",
    "    │   └── style.css  # css template to be used in web application\n",
    "    └── static  # this subdirectory contains CSS style sheets\n",
    "        └── home.html  # html template to be used in web application\n",
    "        └── prediction.html  # html template to be used in web application\n",
    "```"
   ]
  },
  {
   "cell_type": "markdown",
   "metadata": {
    "slideshow": {
     "slide_type": "slide"
    }
   },
   "source": [
    "### Model deployment"
   ]
  },
  {
   "cell_type": "markdown",
   "metadata": {},
   "source": [
    "We have two options for deploying our moment prediction model. We can:\n",
    "\n",
    "1. Build a web application (app) with a HTML user-interface that interacts directly with our model.\n",
    "2. Develop a RESTful (REST stands for REpresentational State Transfer) web API that accepts HTTP requests in the form of input data and returns a prediction.\n",
    "\n",
    "We'll explore both options below."
   ]
  },
  {
   "cell_type": "markdown",
   "metadata": {
    "slideshow": {
     "slide_type": "slide"
    }
   },
   "source": [
    "### Building and deploying a web app\n",
    "\n",
    "|      | on localhost (my laptop) | on server (the interwebs) |\n",
    "|------|--------------------------|--------------------------|\n",
    "| app  |        ❓      |                          |\n",
    "| API  |                          |                          |\n"
   ]
  },
  {
   "cell_type": "markdown",
   "metadata": {},
   "source": [
    "- Flask can create entire web applications.\n",
    "- We need to link our code to some html and css to create our web application.\n",
    "- We will use Flask to create a html form, accept data submitted to the form, and return a prediction using the submitted data. \n",
    "- Again, I won't go into too much detail here, but we can open up `web_application/` and take a quick look."
   ]
  },
  {
   "cell_type": "markdown",
   "metadata": {
    "slideshow": {
     "slide_type": "slide"
    }
   },
   "source": [
    "- If you want to learn more about Flask, see:\n",
    "  - [Flask tutorial video series by Corey Schafer](https://www.youtube.com/playlist?list=PL-osiE80TeTs4UjLw5MM6OjgkjFeUxCYH)\n",
    "  - [Flask docs](https://flask.palletsprojects.com/en/1.1.x/)\n",
    "  - [Flask tutorial by Miguel Grinberg](https://blog.miguelgrinberg.com/post/the-flask-mega-tutorial-part-i-hello-world)\n"
   ]
  },
  {
   "cell_type": "markdown",
   "metadata": {
    "slideshow": {
     "slide_type": "slide"
    }
   },
   "source": [
    "- Let's try `web_application/app.py` that handles this part.\n",
    "- We can open it up here in Jupyter and take a look.\n",
    "- If we run `python app.py` we'll bring it to life."
   ]
  },
  {
   "cell_type": "markdown",
   "metadata": {
    "slideshow": {
     "slide_type": "slide"
    }
   },
   "source": [
    "### Web app on local server\n",
    "\n",
    "1. Go to the terminal. \n",
    "2. Navigate to the `web_application` directory. \n",
    "3. Run the following to make the app alive: `python app.py`. \n",
    "    - If you get an error, you may need to install those extra packages and make sure you have the environment loaded.\n",
    "4. Now you should be able to access the app at: `http://127.0.0.1:5000/` or `http://localhost:5000/`. "
   ]
  },
  {
   "cell_type": "markdown",
   "metadata": {
    "slideshow": {
     "slide_type": "slide"
    }
   },
   "source": [
    "### Web app on a real server\n",
    "\n",
    "- If you want people to use your app/model, you would probably want to put it on a real server and not your laptop so that it's live all the time. \n",
    "\n",
    "|      | on localhost (my laptop) | on server (the interwebs)|\n",
    "|------|--------------------------|--------------------------|\n",
    "| app  |              ✅            |       ❓       |\n",
    "| API  |                          |                          |\n",
    "\n",
    "- We'll use [Render](https://render.com/) for this. \n"
   ]
  },
  {
   "cell_type": "markdown",
   "metadata": {
    "slideshow": {
     "slide_type": "slide"
    }
   },
   "source": [
    "### Render set-up (I already did these):"
   ]
  },
  {
   "cell_type": "markdown",
   "metadata": {
    "slideshow": {
     "slide_type": "-"
    }
   },
   "source": [
    "1. Go to [render](https://dashboard.render.com/), log-in\n",
    "2. Click on \"New\" and create a web service.  \n",
    "\n",
    "![](img/render-new-app.png)\n",
    "<!-- <img src=\"img/render-new-app.png\" width=\"600\"> -->"
   ]
  },
  {
   "cell_type": "markdown",
   "metadata": {
    "slideshow": {
     "slide_type": "slide"
    }
   },
   "source": [
    "### Demo of creating a new web service\n",
    "- Create an associated GitHub repository. \n",
    "- I've put the contents from `web_application` folder [in this repository](https://github.com/kvarada/ml-deployment-example).\n",
    "- Then you connect that repository to your new web service in render. \n",
    "\n",
    "![](img/github-to-render.png)\n",
    "- Once you fill in all the information, it'll create an environment for you using `requirement.txt` and if everything goes well, your web service will be live.\n",
    "- You'll see a link at the top which you can share with your friends. "
   ]
  },
  {
   "cell_type": "markdown",
   "metadata": {
    "slideshow": {
     "slide_type": "slide"
    }
   },
   "source": [
    "- Try it out for your own machine learning applications! \n",
    "- This is nice! If you develop a model and you want your friends to try it out without installing anything on their local computers, you can do this.  "
   ]
  },
  {
   "cell_type": "markdown",
   "metadata": {
    "slideshow": {
     "slide_type": "slide"
    }
   },
   "source": [
    "### API on the localhost \n",
    "\n",
    "- Often you want other people to be able to use your models in their applications.\n",
    "- We can do this by creating an **API**. \n",
    "- If you don't know what an API is, that's OK.\n",
    "  - For our purposes, it's something that exists at a particular address, that can accept information and return information.\n",
    "  - Sort of like a function but not Python-specific and potentially accessible by anyone on the internet."
   ]
  },
  {
   "cell_type": "markdown",
   "metadata": {
    "slideshow": {
     "slide_type": "slide"
    }
   },
   "source": [
    "|      | on localhost (my laptop) | on server (the interwebs) |\n",
    "|------|--------------------------|--------------------------|\n",
    "| app  |              ✅            |        ✅       |\n",
    "| API  |       ❓      |                          |\n",
    "\n",
    "\n"
   ]
  },
  {
   "cell_type": "markdown",
   "metadata": {},
   "source": [
    "- Go to the terminal. \n",
    "- Navigate to `web_api` folder in this repo.\n",
    "- Run the following to make the api alive: `python app.py`"
   ]
  },
  {
   "cell_type": "markdown",
   "metadata": {},
   "source": [
    "(Note that for more complex applications, you may choose to containerize everything in a Docker container to deploy to render)."
   ]
  },
  {
   "cell_type": "markdown",
   "metadata": {
    "slideshow": {
     "slide_type": "slide"
    }
   },
   "source": [
    "### Sending a request to the API\n",
    "\n",
    "- We have a RESTful (REST stands for REpresentational State Transfer) web API that accepts HTTP requests in the form of input data and returns a prediction.\n",
    "- Now you can send requests to the API and get predictions. "
   ]
  },
  {
   "cell_type": "code",
   "execution_count": null,
   "metadata": {},
   "outputs": [],
   "source": [
    "!curl -d '{\"text\":\"The students will be submitting their last homework assignment soon!\"}' -H \"Content-Type: application/json\" -X POST http://localhost:5000/predict"
   ]
  },
  {
   "cell_type": "markdown",
   "metadata": {},
   "source": [
    "- `curl` (stands for client URL) is a tool for transferring data using various network protocols.\n",
    "\n",
    "Here's what each part does in the command: \n",
    "\n",
    "- `-d` $\\rightarrow$ allows you to send a POST request with the specified data.\n",
    "- `'{\"text\":\"The students will be submitting their last homework assignment soon!\"}'` $\\rightarrow$ the JSON data you're sending.\n",
    "- `-H` $\\rightarrow$ specifies a custom header, in this case, Content-Type: application/json to tell the server you're sending JSON.\n",
    "- `-X POST` $\\rightarrow$ explicitly sets the HTTP method to POST.\n",
    "- `http://localhost:5000/predict` $\\rightarrow$ the URL where you're sending the request.\n",
    "\n",
    "Make sure you have `app.py` running at port 5000 when you execute the curl command. "
   ]
  },
  {
   "cell_type": "markdown",
   "metadata": {},
   "source": [
    "Okay, so we have a working API running on localhost, but we don't want to host this service on my laptop!"
   ]
  },
  {
   "cell_type": "markdown",
   "metadata": {
    "slideshow": {
     "slide_type": "slide"
    }
   },
   "source": [
    "### Deploying the API on a server\n",
    "\n",
    "- We now want to deploy it on a \"real\" server so others can send it requests. \n",
    "- We will use render to deploy our app but you could also use other services such as AWS.\n",
    "\n",
    "|      | on localhost (my laptop) | on server (the interwebs) |\n",
    "|------|--------------------------|--------------------------|\n",
    "| app  |              ✅            |        ✅       |\n",
    "| API  |       ✅      |                  ❓        |\n",
    "\n"
   ]
  },
  {
   "cell_type": "markdown",
   "metadata": {
    "slideshow": {
     "slide_type": "slide"
    }
   },
   "source": [
    "Follow the instructions [here](https://render.com/docs/api) to try the API on server. "
   ]
  },
  {
   "cell_type": "markdown",
   "metadata": {
    "slideshow": {
     "slide_type": "slide"
    }
   },
   "source": [
    "### Discussion\n",
    "\n",
    "- There are many ways to deploy a model; a RESTful API is very common and convenient. \n",
    "- As you can see, a simple deployment is fairly straightward. \n",
    "- However, there may be other considerations such as:\n",
    "  - Privacy/security\n",
    "  - Scaling to large number of requests\n",
    "  - Error handling\n",
    "  - Real-time / speed\n",
    "  - Low-resource environments (e.g. edge computing)\n",
    "  - etc."
   ]
  },
  {
   "cell_type": "markdown",
   "metadata": {},
   "source": [
    "```{note}\n",
    "The order of steps is approximate, and some steps may need to be repeated during prototyping, experimentation, and as needed over time. \n",
    "```"
   ]
  },
  {
   "cell_type": "markdown",
   "metadata": {},
   "source": [
    "<br><br>"
   ]
  }
 ],
 "metadata": {
  "celltoolbar": "Slideshow",
  "kernelspec": {
   "display_name": "Python [conda env:cpsc330]",
   "language": "python",
   "name": "conda-env-cpsc330-py"
  },
  "language_info": {
   "codemirror_mode": {
    "name": "ipython",
    "version": 3
   },
   "file_extension": ".py",
   "mimetype": "text/x-python",
   "name": "python",
   "nbconvert_exporter": "python",
   "pygments_lexer": "ipython3",
   "version": "3.10.0"
  }
 },
 "nbformat": 4,
 "nbformat_minor": 4
}
